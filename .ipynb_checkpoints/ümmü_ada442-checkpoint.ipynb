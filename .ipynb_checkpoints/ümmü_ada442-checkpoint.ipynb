{
 "cells": [
  {
   "cell_type": "markdown",
   "id": "8a77807f92f26ee",
   "metadata": {},
   "source": [
    "# This is a sample Jupyter Notebook\n",
    "\n",
    "Below is an example of a code cell. \n",
    "Put your cursor into the cell and press Shift+Enter to execute it and select the next one, or click 'Run Cell' button.\n",
    "\n",
    "Press Double Shift to search everywhere for classes, files, tool windows, actions, and settings.\n",
    "\n",
    "To learn more about Jupyter Notebooks in PyCharm, see [help](https://www.jetbrains.com/help/pycharm/ipython-notebook-support.html).\n",
    "For an overview of PyCharm, go to Help -> Learn IDE features or refer to [our documentation](https://www.jetbrains.com/help/pycharm/getting-started.html)."
   ]
  },
  {
   "cell_type": "code",
   "execution_count": 3,
   "id": "fbc121e30a2defb3",
   "metadata": {
    "ExecuteTime": {
     "end_time": "2024-11-30T11:53:32.260559Z",
     "start_time": "2024-11-30T11:53:32.258392Z"
    }
   },
   "outputs": [
    {
     "name": "stderr",
     "output_type": "stream",
     "text": [
      "Matplotlib is building the font cache; this may take a moment.\n"
     ]
    }
   ],
   "source": [
    "import pandas as pd\n",
    "import numpy as np\n",
    "import seaborn as sns\n",
    "from matplotlib import pyplot as plt\n",
    "from sklearn.preprocessing import MinMaxScaler"
   ]
  },
  {
   "cell_type": "markdown",
   "id": "cf7780a3949c0de9",
   "metadata": {},
   "source": [
    "About Data"
   ]
  },
  {
   "cell_type": "code",
   "execution_count": 5,
   "id": "fb041036ea630c23",
   "metadata": {
    "ExecuteTime": {
     "end_time": "2024-11-30T11:53:33.404793Z",
     "start_time": "2024-11-30T11:53:33.374816Z"
    }
   },
   "outputs": [
    {
     "ename": "FileNotFoundError",
     "evalue": "[Errno 2] No such file or directory: 'bank-additional.csv'",
     "output_type": "error",
     "traceback": [
      "\u001b[0;31m---------------------------------------------------------------------------\u001b[0m",
      "\u001b[0;31mFileNotFoundError\u001b[0m                         Traceback (most recent call last)",
      "Cell \u001b[0;32mIn[5], line 1\u001b[0m\n\u001b[0;32m----> 1\u001b[0m data \u001b[38;5;241m=\u001b[39m pd\u001b[38;5;241m.\u001b[39mread_csv(\u001b[38;5;124m\"\u001b[39m\u001b[38;5;124mbank-additional.csv\u001b[39m\u001b[38;5;124m\"\u001b[39m, delimiter\u001b[38;5;241m=\u001b[39m\u001b[38;5;124m'\u001b[39m\u001b[38;5;124m;\u001b[39m\u001b[38;5;124m'\u001b[39m)\n\u001b[1;32m      3\u001b[0m data\u001b[38;5;241m.\u001b[39minfo()\n\u001b[1;32m      4\u001b[0m data\u001b[38;5;241m.\u001b[39mdescribe()\n",
      "File \u001b[0;32m/opt/anaconda3/lib/python3.12/site-packages/pandas/io/parsers/readers.py:1026\u001b[0m, in \u001b[0;36mread_csv\u001b[0;34m(filepath_or_buffer, sep, delimiter, header, names, index_col, usecols, dtype, engine, converters, true_values, false_values, skipinitialspace, skiprows, skipfooter, nrows, na_values, keep_default_na, na_filter, verbose, skip_blank_lines, parse_dates, infer_datetime_format, keep_date_col, date_parser, date_format, dayfirst, cache_dates, iterator, chunksize, compression, thousands, decimal, lineterminator, quotechar, quoting, doublequote, escapechar, comment, encoding, encoding_errors, dialect, on_bad_lines, delim_whitespace, low_memory, memory_map, float_precision, storage_options, dtype_backend)\u001b[0m\n\u001b[1;32m   1013\u001b[0m kwds_defaults \u001b[38;5;241m=\u001b[39m _refine_defaults_read(\n\u001b[1;32m   1014\u001b[0m     dialect,\n\u001b[1;32m   1015\u001b[0m     delimiter,\n\u001b[0;32m   (...)\u001b[0m\n\u001b[1;32m   1022\u001b[0m     dtype_backend\u001b[38;5;241m=\u001b[39mdtype_backend,\n\u001b[1;32m   1023\u001b[0m )\n\u001b[1;32m   1024\u001b[0m kwds\u001b[38;5;241m.\u001b[39mupdate(kwds_defaults)\n\u001b[0;32m-> 1026\u001b[0m \u001b[38;5;28;01mreturn\u001b[39;00m _read(filepath_or_buffer, kwds)\n",
      "File \u001b[0;32m/opt/anaconda3/lib/python3.12/site-packages/pandas/io/parsers/readers.py:620\u001b[0m, in \u001b[0;36m_read\u001b[0;34m(filepath_or_buffer, kwds)\u001b[0m\n\u001b[1;32m    617\u001b[0m _validate_names(kwds\u001b[38;5;241m.\u001b[39mget(\u001b[38;5;124m\"\u001b[39m\u001b[38;5;124mnames\u001b[39m\u001b[38;5;124m\"\u001b[39m, \u001b[38;5;28;01mNone\u001b[39;00m))\n\u001b[1;32m    619\u001b[0m \u001b[38;5;66;03m# Create the parser.\u001b[39;00m\n\u001b[0;32m--> 620\u001b[0m parser \u001b[38;5;241m=\u001b[39m TextFileReader(filepath_or_buffer, \u001b[38;5;241m*\u001b[39m\u001b[38;5;241m*\u001b[39mkwds)\n\u001b[1;32m    622\u001b[0m \u001b[38;5;28;01mif\u001b[39;00m chunksize \u001b[38;5;129;01mor\u001b[39;00m iterator:\n\u001b[1;32m    623\u001b[0m     \u001b[38;5;28;01mreturn\u001b[39;00m parser\n",
      "File \u001b[0;32m/opt/anaconda3/lib/python3.12/site-packages/pandas/io/parsers/readers.py:1620\u001b[0m, in \u001b[0;36mTextFileReader.__init__\u001b[0;34m(self, f, engine, **kwds)\u001b[0m\n\u001b[1;32m   1617\u001b[0m     \u001b[38;5;28mself\u001b[39m\u001b[38;5;241m.\u001b[39moptions[\u001b[38;5;124m\"\u001b[39m\u001b[38;5;124mhas_index_names\u001b[39m\u001b[38;5;124m\"\u001b[39m] \u001b[38;5;241m=\u001b[39m kwds[\u001b[38;5;124m\"\u001b[39m\u001b[38;5;124mhas_index_names\u001b[39m\u001b[38;5;124m\"\u001b[39m]\n\u001b[1;32m   1619\u001b[0m \u001b[38;5;28mself\u001b[39m\u001b[38;5;241m.\u001b[39mhandles: IOHandles \u001b[38;5;241m|\u001b[39m \u001b[38;5;28;01mNone\u001b[39;00m \u001b[38;5;241m=\u001b[39m \u001b[38;5;28;01mNone\u001b[39;00m\n\u001b[0;32m-> 1620\u001b[0m \u001b[38;5;28mself\u001b[39m\u001b[38;5;241m.\u001b[39m_engine \u001b[38;5;241m=\u001b[39m \u001b[38;5;28mself\u001b[39m\u001b[38;5;241m.\u001b[39m_make_engine(f, \u001b[38;5;28mself\u001b[39m\u001b[38;5;241m.\u001b[39mengine)\n",
      "File \u001b[0;32m/opt/anaconda3/lib/python3.12/site-packages/pandas/io/parsers/readers.py:1880\u001b[0m, in \u001b[0;36mTextFileReader._make_engine\u001b[0;34m(self, f, engine)\u001b[0m\n\u001b[1;32m   1878\u001b[0m     \u001b[38;5;28;01mif\u001b[39;00m \u001b[38;5;124m\"\u001b[39m\u001b[38;5;124mb\u001b[39m\u001b[38;5;124m\"\u001b[39m \u001b[38;5;129;01mnot\u001b[39;00m \u001b[38;5;129;01min\u001b[39;00m mode:\n\u001b[1;32m   1879\u001b[0m         mode \u001b[38;5;241m+\u001b[39m\u001b[38;5;241m=\u001b[39m \u001b[38;5;124m\"\u001b[39m\u001b[38;5;124mb\u001b[39m\u001b[38;5;124m\"\u001b[39m\n\u001b[0;32m-> 1880\u001b[0m \u001b[38;5;28mself\u001b[39m\u001b[38;5;241m.\u001b[39mhandles \u001b[38;5;241m=\u001b[39m get_handle(\n\u001b[1;32m   1881\u001b[0m     f,\n\u001b[1;32m   1882\u001b[0m     mode,\n\u001b[1;32m   1883\u001b[0m     encoding\u001b[38;5;241m=\u001b[39m\u001b[38;5;28mself\u001b[39m\u001b[38;5;241m.\u001b[39moptions\u001b[38;5;241m.\u001b[39mget(\u001b[38;5;124m\"\u001b[39m\u001b[38;5;124mencoding\u001b[39m\u001b[38;5;124m\"\u001b[39m, \u001b[38;5;28;01mNone\u001b[39;00m),\n\u001b[1;32m   1884\u001b[0m     compression\u001b[38;5;241m=\u001b[39m\u001b[38;5;28mself\u001b[39m\u001b[38;5;241m.\u001b[39moptions\u001b[38;5;241m.\u001b[39mget(\u001b[38;5;124m\"\u001b[39m\u001b[38;5;124mcompression\u001b[39m\u001b[38;5;124m\"\u001b[39m, \u001b[38;5;28;01mNone\u001b[39;00m),\n\u001b[1;32m   1885\u001b[0m     memory_map\u001b[38;5;241m=\u001b[39m\u001b[38;5;28mself\u001b[39m\u001b[38;5;241m.\u001b[39moptions\u001b[38;5;241m.\u001b[39mget(\u001b[38;5;124m\"\u001b[39m\u001b[38;5;124mmemory_map\u001b[39m\u001b[38;5;124m\"\u001b[39m, \u001b[38;5;28;01mFalse\u001b[39;00m),\n\u001b[1;32m   1886\u001b[0m     is_text\u001b[38;5;241m=\u001b[39mis_text,\n\u001b[1;32m   1887\u001b[0m     errors\u001b[38;5;241m=\u001b[39m\u001b[38;5;28mself\u001b[39m\u001b[38;5;241m.\u001b[39moptions\u001b[38;5;241m.\u001b[39mget(\u001b[38;5;124m\"\u001b[39m\u001b[38;5;124mencoding_errors\u001b[39m\u001b[38;5;124m\"\u001b[39m, \u001b[38;5;124m\"\u001b[39m\u001b[38;5;124mstrict\u001b[39m\u001b[38;5;124m\"\u001b[39m),\n\u001b[1;32m   1888\u001b[0m     storage_options\u001b[38;5;241m=\u001b[39m\u001b[38;5;28mself\u001b[39m\u001b[38;5;241m.\u001b[39moptions\u001b[38;5;241m.\u001b[39mget(\u001b[38;5;124m\"\u001b[39m\u001b[38;5;124mstorage_options\u001b[39m\u001b[38;5;124m\"\u001b[39m, \u001b[38;5;28;01mNone\u001b[39;00m),\n\u001b[1;32m   1889\u001b[0m )\n\u001b[1;32m   1890\u001b[0m \u001b[38;5;28;01massert\u001b[39;00m \u001b[38;5;28mself\u001b[39m\u001b[38;5;241m.\u001b[39mhandles \u001b[38;5;129;01mis\u001b[39;00m \u001b[38;5;129;01mnot\u001b[39;00m \u001b[38;5;28;01mNone\u001b[39;00m\n\u001b[1;32m   1891\u001b[0m f \u001b[38;5;241m=\u001b[39m \u001b[38;5;28mself\u001b[39m\u001b[38;5;241m.\u001b[39mhandles\u001b[38;5;241m.\u001b[39mhandle\n",
      "File \u001b[0;32m/opt/anaconda3/lib/python3.12/site-packages/pandas/io/common.py:873\u001b[0m, in \u001b[0;36mget_handle\u001b[0;34m(path_or_buf, mode, encoding, compression, memory_map, is_text, errors, storage_options)\u001b[0m\n\u001b[1;32m    868\u001b[0m \u001b[38;5;28;01melif\u001b[39;00m \u001b[38;5;28misinstance\u001b[39m(handle, \u001b[38;5;28mstr\u001b[39m):\n\u001b[1;32m    869\u001b[0m     \u001b[38;5;66;03m# Check whether the filename is to be opened in binary mode.\u001b[39;00m\n\u001b[1;32m    870\u001b[0m     \u001b[38;5;66;03m# Binary mode does not support 'encoding' and 'newline'.\u001b[39;00m\n\u001b[1;32m    871\u001b[0m     \u001b[38;5;28;01mif\u001b[39;00m ioargs\u001b[38;5;241m.\u001b[39mencoding \u001b[38;5;129;01mand\u001b[39;00m \u001b[38;5;124m\"\u001b[39m\u001b[38;5;124mb\u001b[39m\u001b[38;5;124m\"\u001b[39m \u001b[38;5;129;01mnot\u001b[39;00m \u001b[38;5;129;01min\u001b[39;00m ioargs\u001b[38;5;241m.\u001b[39mmode:\n\u001b[1;32m    872\u001b[0m         \u001b[38;5;66;03m# Encoding\u001b[39;00m\n\u001b[0;32m--> 873\u001b[0m         handle \u001b[38;5;241m=\u001b[39m \u001b[38;5;28mopen\u001b[39m(\n\u001b[1;32m    874\u001b[0m             handle,\n\u001b[1;32m    875\u001b[0m             ioargs\u001b[38;5;241m.\u001b[39mmode,\n\u001b[1;32m    876\u001b[0m             encoding\u001b[38;5;241m=\u001b[39mioargs\u001b[38;5;241m.\u001b[39mencoding,\n\u001b[1;32m    877\u001b[0m             errors\u001b[38;5;241m=\u001b[39merrors,\n\u001b[1;32m    878\u001b[0m             newline\u001b[38;5;241m=\u001b[39m\u001b[38;5;124m\"\u001b[39m\u001b[38;5;124m\"\u001b[39m,\n\u001b[1;32m    879\u001b[0m         )\n\u001b[1;32m    880\u001b[0m     \u001b[38;5;28;01melse\u001b[39;00m:\n\u001b[1;32m    881\u001b[0m         \u001b[38;5;66;03m# Binary mode\u001b[39;00m\n\u001b[1;32m    882\u001b[0m         handle \u001b[38;5;241m=\u001b[39m \u001b[38;5;28mopen\u001b[39m(handle, ioargs\u001b[38;5;241m.\u001b[39mmode)\n",
      "\u001b[0;31mFileNotFoundError\u001b[0m: [Errno 2] No such file or directory: 'bank-additional.csv'"
     ]
    }
   ],
   "source": [
    "\n",
    "data = pd.read_csv(\"bank-additional.csv\", delimiter=';')\n",
    "\n",
    "data.info()\n",
    "data.describe()"
   ]
  },
  {
   "cell_type": "markdown",
   "id": "977daac5ff80fb05",
   "metadata": {},
   "source": [
    "1.Data Cleaning"
   ]
  },
  {
   "cell_type": "code",
   "execution_count": null,
   "id": "d6863aedeb7b1a3a",
   "metadata": {
    "ExecuteTime": {
     "end_time": "2024-11-30T11:53:36.175358Z",
     "start_time": "2024-11-30T11:53:36.159488Z"
    }
   },
   "outputs": [],
   "source": [
    "column_order = [\"age\", \"job\", \"marital\", \"education\", \"default\", \"housing\", \"loan\",\n",
    "                \"contact\", \"month\", \"day_of_week\", \"duration\", \"campaign\", \"pdays\",\n",
    "                \"previous\", \"poutcome\", \"emp.var.rate\", \"cons.price.idx\",\n",
    "                \"cons.conf.idx\", \"euribor3m\", \"nr.employed\", \"y\"]\n",
    "\n",
    "# Read the CSV file with the specified column order\n",
    "bank_additional = pd.read_csv(\"bank-additional.csv\", delimiter=';', names=column_order)"
   ]
  },
  {
   "cell_type": "markdown",
   "id": "a4c8050077c97f28",
   "metadata": {},
   "source": []
  },
  {
   "cell_type": "code",
   "execution_count": null,
   "id": "de6192b5ef621fd",
   "metadata": {
    "ExecuteTime": {
     "end_time": "2024-11-30T11:53:38.057987Z",
     "start_time": "2024-11-30T11:53:38.054040Z"
    }
   },
   "outputs": [],
   "source": [
    "print(bank_additional.shape)\n"
   ]
  },
  {
   "cell_type": "code",
   "execution_count": null,
   "id": "90b2f754ec8893df",
   "metadata": {
    "ExecuteTime": {
     "end_time": "2024-11-30T11:53:39.962320Z",
     "start_time": "2024-11-30T11:53:39.950854Z"
    }
   },
   "outputs": [],
   "source": [
    "print(bank_additional.head())"
   ]
  },
  {
   "cell_type": "code",
   "execution_count": null,
   "id": "2f2dedcd76d9e831",
   "metadata": {
    "ExecuteTime": {
     "end_time": "2024-11-30T11:53:41.660932Z",
     "start_time": "2024-11-30T11:53:41.654307Z"
    }
   },
   "outputs": [],
   "source": [
    "print(data.isnull().sum())\n"
   ]
  },
  {
   "cell_type": "code",
   "execution_count": null,
   "id": "9fa89e8c706feb83",
   "metadata": {
    "ExecuteTime": {
     "end_time": "2024-11-30T11:53:43.543561Z",
     "start_time": "2024-11-30T11:53:43.533187Z"
    }
   },
   "outputs": [],
   "source": [
    "categorical_columns = ['job', 'marital', 'education', 'default', 'housing', 'loan', 'contact', 'month', 'day_of_week', 'poutcome']\n",
    "data[categorical_columns] = data[categorical_columns].astype('category')"
   ]
  },
  {
   "cell_type": "code",
   "execution_count": null,
   "id": "9243590876763d98",
   "metadata": {
    "ExecuteTime": {
     "end_time": "2024-11-30T11:53:46.475937Z",
     "start_time": "2024-11-30T11:53:45.973125Z"
    }
   },
   "outputs": [],
   "source": [
    "reference_column = 'age'\n",
    "numerical_columns = ['duration', 'campaign', 'pdays', 'previous',\n",
    "                     'emp.var.rate', 'cons.price.idx', 'cons.conf.idx',\n",
    "                     'euribor3m', 'nr.employed']\n",
    "fig, axes = plt.subplots(3, 4, figsize=(18, 12))\n",
    "axes = axes.flatten()\n",
    "\n",
    "for i, column in enumerate(numerical_columns):\n",
    "    sns.scatterplot(data=data, x=reference_column, y=column, ax=axes[i], color=\"purple\")\n",
    "    axes[i].set_title(f'{reference_column} vs {column}', fontsize=12, color='darkblue')\n",
    "    axes[i].set_xlabel(reference_column, fontsize=10)\n",
    "    axes[i].set_ylabel(column, fontsize=10)\n",
    "\n",
    "for j in range(len(numerical_columns), len(axes)):\n",
    "    fig.delaxes(axes[j])\n",
    "\n",
    "plt.tight_layout()\n",
    "plt.show()"
   ]
  },
  {
   "cell_type": "code",
   "execution_count": null,
   "id": "246f19ef8398c9ac",
   "metadata": {
    "ExecuteTime": {
     "end_time": "2024-11-30T11:53:50.608645Z",
     "start_time": "2024-11-30T11:53:50.044611Z"
    }
   },
   "outputs": [],
   "source": [
    "\n",
    "numerical_columns = ['duration', 'campaign', 'pdays', 'previous',\n",
    "                     'emp.var.rate', 'cons.price.idx', 'cons.conf.idx',\n",
    "                     'euribor3m', 'nr.employed']\n",
    "\n",
    "fig, axes = plt.subplots(3, 4, figsize=(18, 12))\n",
    "axes = axes.flatten()\n",
    "\n",
    "for i, column in enumerate(numerical_columns):\n",
    "    sns.boxplot(\n",
    "        data=data,\n",
    "        y=column,\n",
    "        ax=axes[i],\n",
    "        boxprops=dict(facecolor=\"purple\", edgecolor=\"purple\"),\n",
    "        medianprops=dict(color=\"darkblue\", linewidth=2)\n",
    "    )\n",
    "    axes[i].set_title(f'Distribution of {column}', fontsize=12, color='darkblue')\n",
    "    axes[i].set_ylabel(column, fontsize=10)\n",
    "    axes[i].grid(axis='y', linestyle='--', alpha=0.7)\n",
    "\n",
    "for j in range(len(numerical_columns), len(axes)):\n",
    "    fig.delaxes(axes[j])\n",
    "\n",
    "plt.tight_layout()\n",
    "plt.show()\n"
   ]
  },
  {
   "cell_type": "code",
   "execution_count": null,
   "id": "a77b48ae9a777cbd",
   "metadata": {
    "ExecuteTime": {
     "end_time": "2024-11-30T11:53:54.603787Z",
     "start_time": "2024-11-30T11:53:54.591653Z"
    }
   },
   "outputs": [],
   "source": [
    "# Cap the values in the 'campaign' and 'duration' columns at the 95th percentile\n",
    "for column in ['campaign', 'duration']:\n",
    "    threshold = data[column].quantile(0.90)\n",
    "    data[column] = np.where(data[column] > threshold, threshold, data[column])\n",
    "\n",
    "# Remove any rows where the 'age' column has values greater than 90\n",
    "data = data[data['age'] <= 90]\n",
    "\n",
    "# Display the first few rows of the modified DataFrame to verify changes\n",
    "print(data.head())\n"
   ]
  },
  {
   "cell_type": "markdown",
   "id": "d4ceb0116bb87094",
   "metadata": {},
   "source": [
    "2.Data Preprocessing"
   ]
  },
  {
   "cell_type": "code",
   "execution_count": null,
   "id": "70d10dd1b651dd60",
   "metadata": {
    "ExecuteTime": {
     "end_time": "2024-11-30T11:53:57.943193Z",
     "start_time": "2024-11-30T11:53:57.924658Z"
    }
   },
   "outputs": [],
   "source": [
    "scaler = MinMaxScaler()\n",
    "\n",
    "# List of numerical columns to scale (update as needed)\n",
    "numerical_cols = ['age', 'duration', 'campaign', 'emp.var.rate', 'cons.price.idx', 'cons.conf.idx', 'euribor3m', 'nr.employed']\n",
    "\n",
    "# Apply Min-Max Scaling\n",
    "data[numerical_cols] = scaler.fit_transform(data[numerical_cols])\n",
    "\n",
    "# Print the first few rows to check the transformed data\n",
    "data.head()"
   ]
  },
  {
   "cell_type": "code",
   "execution_count": null,
   "id": "ec70d0c44e5d93ff",
   "metadata": {
    "ExecuteTime": {
     "end_time": "2024-11-30T11:40:04.629340Z",
     "start_time": "2024-11-30T11:40:04.620599Z"
    }
   },
   "outputs": [],
   "source": [
    "# Convert the 'pdays' column into a binary feature: 0 indicates not contacted (999), and 1 indicates contacted\n",
    "data['contacted_before'] = data['pdays'].apply(lambda x: 0 if x == 999 else 1)\n",
    "\n",
    "# Remove the original 'pdays' column from the DataFrame\n",
    "data.drop('pdays', axis=1, inplace=True)\n",
    "\n",
    "# Display the first few rows of the new 'contacted_before' column to confirm the changes\n",
    "print(data[['contacted_before']].head())"
   ]
  },
  {
   "cell_type": "code",
   "execution_count": null,
   "id": "aa972b10e359f329",
   "metadata": {
    "ExecuteTime": {
     "end_time": "2024-11-30T11:54:01.256070Z",
     "start_time": "2024-11-30T11:54:01.245946Z"
    }
   },
   "outputs": [],
   "source": [
    "# Define the list of categorical columns for one-hot encoding\n",
    "categorical_columns = ['job', 'marital', 'education', 'default', 'housing',\n",
    "                       'loan', 'contact', 'month', 'day_of_week', 'poutcome']\n",
    "\n",
    "# Identify the columns that are present in the DataFrame\n",
    "existing_columns = [col for col in categorical_columns if col in data.columns]\n",
    "\n",
    "# Display missing columns for troubleshooting\n",
    "missing_columns = [col for col in categorical_columns if col not in data.columns]\n",
    "if missing_columns:\n",
    "    print(f\"The following columns are not found in the DataFrame and will be skipped: {missing_columns}\")\n",
    "\n",
    "# Perform one-hot encoding on the available columns\n",
    "if existing_columns:\n",
    "    data = pd.get_dummies(data, columns=existing_columns)\n",
    "    print(\"One-hot encoding has been successfully completed.\")\n",
    "else:\n",
    "    print(\"No valid categorical columns found for one-hot encoding.\")\n",
    "\n",
    "# Display the updated DataFrame structure\n",
    "print(data.head())\n"
   ]
  },
  {
   "cell_type": "code",
   "execution_count": null,
   "id": "4280c182-4e94-4d18-b121-55339e8fb9fc",
   "metadata": {},
   "outputs": [],
   "source": []
  },
  {
   "cell_type": "code",
   "execution_count": null,
   "id": "3a9a51f8-4929-470d-b186-8b53c81c96dd",
   "metadata": {},
   "outputs": [],
   "source": []
  },
  {
   "cell_type": "code",
   "execution_count": null,
   "id": "66e88df5-c360-440f-ac63-28d9b3d1514a",
   "metadata": {},
   "outputs": [],
   "source": []
  },
  {
   "cell_type": "code",
   "execution_count": null,
   "id": "768e4762-f720-469b-bc3f-fbda920a9e7c",
   "metadata": {},
   "outputs": [],
   "source": []
  },
  {
   "cell_type": "code",
   "execution_count": null,
   "id": "52de7121-a725-42a2-aaf5-7c8231335acf",
   "metadata": {},
   "outputs": [],
   "source": []
  },
  {
   "cell_type": "code",
   "execution_count": null,
   "id": "e9acfd98-e3d7-4f9e-b938-ffda3d5d39db",
   "metadata": {},
   "outputs": [],
   "source": []
  },
  {
   "cell_type": "code",
   "execution_count": null,
   "id": "b1c8f10c-7c8b-43bf-9b53-3453b1905998",
   "metadata": {},
   "outputs": [],
   "source": []
  },
  {
   "cell_type": "code",
   "execution_count": null,
   "id": "eeabdbef-bfd2-4975-922a-b4c7be3822e8",
   "metadata": {},
   "outputs": [],
   "source": []
  }
 ],
 "metadata": {
  "kernelspec": {
   "display_name": "Python 3 (ipykernel)",
   "language": "python",
   "name": "python3"
  },
  "language_info": {
   "codemirror_mode": {
    "name": "ipython",
    "version": 3
   },
   "file_extension": ".py",
   "mimetype": "text/x-python",
   "name": "python",
   "nbconvert_exporter": "python",
   "pygments_lexer": "ipython3",
   "version": "3.12.7"
  }
 },
 "nbformat": 4,
 "nbformat_minor": 5
}
