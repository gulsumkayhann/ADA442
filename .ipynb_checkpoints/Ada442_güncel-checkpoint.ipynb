{
 "cells": [
  {
   "cell_type": "code",
   "execution_count": 147,
   "id": "fbc121e30a2defb3",
   "metadata": {
    "ExecuteTime": {
     "end_time": "2024-11-30T11:53:32.260559Z",
     "start_time": "2024-11-30T11:53:32.258392Z"
    }
   },
   "outputs": [],
   "source": [
    "import pandas as pd\n",
    "import numpy as np\n",
    "import seaborn as sns\n",
    "from matplotlib import pyplot as plt\n",
    "from sklearn.preprocessing import MinMaxScaler\n",
    "from sklearn.ensemble import RandomForestClassifier\n",
    "from sklearn.feature_selection import SelectKBest, chi2, f_classif\n",
    "from sklearn.preprocessing import LabelEncoder"
   ]
  },
  {
   "cell_type": "markdown",
   "id": "03710899-ae68-41d8-835b-b2dc876fc68b",
   "metadata": {},
   "source": [
    "# About The Data"
   ]
  },
  {
   "cell_type": "code",
   "execution_count": 148,
   "id": "fb041036ea630c23",
   "metadata": {
    "ExecuteTime": {
     "end_time": "2024-11-30T11:53:33.404793Z",
     "start_time": "2024-11-30T11:53:33.374816Z"
    }
   },
   "outputs": [
    {
     "name": "stdout",
     "output_type": "stream",
     "text": [
      "<class 'pandas.core.frame.DataFrame'>\n",
      "RangeIndex: 4119 entries, 0 to 4118\n",
      "Data columns (total 21 columns):\n",
      " #   Column          Non-Null Count  Dtype  \n",
      "---  ------          --------------  -----  \n",
      " 0   age             4119 non-null   int64  \n",
      " 1   job             4119 non-null   object \n",
      " 2   marital         4119 non-null   object \n",
      " 3   education       4119 non-null   object \n",
      " 4   default         4119 non-null   object \n",
      " 5   housing         4119 non-null   object \n",
      " 6   loan            4119 non-null   object \n",
      " 7   contact         4119 non-null   object \n",
      " 8   month           4119 non-null   object \n",
      " 9   day_of_week     4119 non-null   object \n",
      " 10  duration        4119 non-null   int64  \n",
      " 11  campaign        4119 non-null   int64  \n",
      " 12  pdays           4119 non-null   int64  \n",
      " 13  previous        4119 non-null   int64  \n",
      " 14  poutcome        4119 non-null   object \n",
      " 15  emp.var.rate    4119 non-null   float64\n",
      " 16  cons.price.idx  4119 non-null   float64\n",
      " 17  cons.conf.idx   4119 non-null   float64\n",
      " 18  euribor3m       4119 non-null   float64\n",
      " 19  nr.employed     4119 non-null   float64\n",
      " 20  y               4119 non-null   object \n",
      "dtypes: float64(5), int64(5), object(11)\n",
      "memory usage: 675.9+ KB\n"
     ]
    },
    {
     "data": {
      "text/html": [
       "<div>\n",
       "<style scoped>\n",
       "    .dataframe tbody tr th:only-of-type {\n",
       "        vertical-align: middle;\n",
       "    }\n",
       "\n",
       "    .dataframe tbody tr th {\n",
       "        vertical-align: top;\n",
       "    }\n",
       "\n",
       "    .dataframe thead th {\n",
       "        text-align: right;\n",
       "    }\n",
       "</style>\n",
       "<table border=\"1\" class=\"dataframe\">\n",
       "  <thead>\n",
       "    <tr style=\"text-align: right;\">\n",
       "      <th></th>\n",
       "      <th>age</th>\n",
       "      <th>duration</th>\n",
       "      <th>campaign</th>\n",
       "      <th>pdays</th>\n",
       "      <th>previous</th>\n",
       "      <th>emp.var.rate</th>\n",
       "      <th>cons.price.idx</th>\n",
       "      <th>cons.conf.idx</th>\n",
       "      <th>euribor3m</th>\n",
       "      <th>nr.employed</th>\n",
       "    </tr>\n",
       "  </thead>\n",
       "  <tbody>\n",
       "    <tr>\n",
       "      <th>count</th>\n",
       "      <td>4119.000000</td>\n",
       "      <td>4119.000000</td>\n",
       "      <td>4119.000000</td>\n",
       "      <td>4119.000000</td>\n",
       "      <td>4119.000000</td>\n",
       "      <td>4119.000000</td>\n",
       "      <td>4119.000000</td>\n",
       "      <td>4119.000000</td>\n",
       "      <td>4119.000000</td>\n",
       "      <td>4119.000000</td>\n",
       "    </tr>\n",
       "    <tr>\n",
       "      <th>mean</th>\n",
       "      <td>40.113620</td>\n",
       "      <td>256.788055</td>\n",
       "      <td>2.537266</td>\n",
       "      <td>960.422190</td>\n",
       "      <td>0.190337</td>\n",
       "      <td>0.084972</td>\n",
       "      <td>93.579704</td>\n",
       "      <td>-40.499102</td>\n",
       "      <td>3.621356</td>\n",
       "      <td>5166.481695</td>\n",
       "    </tr>\n",
       "    <tr>\n",
       "      <th>std</th>\n",
       "      <td>10.313362</td>\n",
       "      <td>254.703736</td>\n",
       "      <td>2.568159</td>\n",
       "      <td>191.922786</td>\n",
       "      <td>0.541788</td>\n",
       "      <td>1.563114</td>\n",
       "      <td>0.579349</td>\n",
       "      <td>4.594578</td>\n",
       "      <td>1.733591</td>\n",
       "      <td>73.667904</td>\n",
       "    </tr>\n",
       "    <tr>\n",
       "      <th>min</th>\n",
       "      <td>18.000000</td>\n",
       "      <td>0.000000</td>\n",
       "      <td>1.000000</td>\n",
       "      <td>0.000000</td>\n",
       "      <td>0.000000</td>\n",
       "      <td>-3.400000</td>\n",
       "      <td>92.201000</td>\n",
       "      <td>-50.800000</td>\n",
       "      <td>0.635000</td>\n",
       "      <td>4963.600000</td>\n",
       "    </tr>\n",
       "    <tr>\n",
       "      <th>25%</th>\n",
       "      <td>32.000000</td>\n",
       "      <td>103.000000</td>\n",
       "      <td>1.000000</td>\n",
       "      <td>999.000000</td>\n",
       "      <td>0.000000</td>\n",
       "      <td>-1.800000</td>\n",
       "      <td>93.075000</td>\n",
       "      <td>-42.700000</td>\n",
       "      <td>1.334000</td>\n",
       "      <td>5099.100000</td>\n",
       "    </tr>\n",
       "    <tr>\n",
       "      <th>50%</th>\n",
       "      <td>38.000000</td>\n",
       "      <td>181.000000</td>\n",
       "      <td>2.000000</td>\n",
       "      <td>999.000000</td>\n",
       "      <td>0.000000</td>\n",
       "      <td>1.100000</td>\n",
       "      <td>93.749000</td>\n",
       "      <td>-41.800000</td>\n",
       "      <td>4.857000</td>\n",
       "      <td>5191.000000</td>\n",
       "    </tr>\n",
       "    <tr>\n",
       "      <th>75%</th>\n",
       "      <td>47.000000</td>\n",
       "      <td>317.000000</td>\n",
       "      <td>3.000000</td>\n",
       "      <td>999.000000</td>\n",
       "      <td>0.000000</td>\n",
       "      <td>1.400000</td>\n",
       "      <td>93.994000</td>\n",
       "      <td>-36.400000</td>\n",
       "      <td>4.961000</td>\n",
       "      <td>5228.100000</td>\n",
       "    </tr>\n",
       "    <tr>\n",
       "      <th>max</th>\n",
       "      <td>88.000000</td>\n",
       "      <td>3643.000000</td>\n",
       "      <td>35.000000</td>\n",
       "      <td>999.000000</td>\n",
       "      <td>6.000000</td>\n",
       "      <td>1.400000</td>\n",
       "      <td>94.767000</td>\n",
       "      <td>-26.900000</td>\n",
       "      <td>5.045000</td>\n",
       "      <td>5228.100000</td>\n",
       "    </tr>\n",
       "  </tbody>\n",
       "</table>\n",
       "</div>"
      ],
      "text/plain": [
       "               age     duration     campaign        pdays     previous  \\\n",
       "count  4119.000000  4119.000000  4119.000000  4119.000000  4119.000000   \n",
       "mean     40.113620   256.788055     2.537266   960.422190     0.190337   \n",
       "std      10.313362   254.703736     2.568159   191.922786     0.541788   \n",
       "min      18.000000     0.000000     1.000000     0.000000     0.000000   \n",
       "25%      32.000000   103.000000     1.000000   999.000000     0.000000   \n",
       "50%      38.000000   181.000000     2.000000   999.000000     0.000000   \n",
       "75%      47.000000   317.000000     3.000000   999.000000     0.000000   \n",
       "max      88.000000  3643.000000    35.000000   999.000000     6.000000   \n",
       "\n",
       "       emp.var.rate  cons.price.idx  cons.conf.idx    euribor3m  nr.employed  \n",
       "count   4119.000000     4119.000000    4119.000000  4119.000000  4119.000000  \n",
       "mean       0.084972       93.579704     -40.499102     3.621356  5166.481695  \n",
       "std        1.563114        0.579349       4.594578     1.733591    73.667904  \n",
       "min       -3.400000       92.201000     -50.800000     0.635000  4963.600000  \n",
       "25%       -1.800000       93.075000     -42.700000     1.334000  5099.100000  \n",
       "50%        1.100000       93.749000     -41.800000     4.857000  5191.000000  \n",
       "75%        1.400000       93.994000     -36.400000     4.961000  5228.100000  \n",
       "max        1.400000       94.767000     -26.900000     5.045000  5228.100000  "
      ]
     },
     "execution_count": 148,
     "metadata": {},
     "output_type": "execute_result"
    }
   ],
   "source": [
    "\n",
    "data = pd.read_csv(\"bank-additional.csv\", delimiter=';')\n",
    "\n",
    "data.info()\n",
    "data.describe()"
   ]
  },
  {
   "cell_type": "markdown",
   "id": "781bb5d2-fddf-4878-86c5-829469a37771",
   "metadata": {},
   "source": [
    "# 1.Data Cleaning"
   ]
  },
  {
   "cell_type": "code",
   "execution_count": 149,
   "id": "d6863aedeb7b1a3a",
   "metadata": {
    "ExecuteTime": {
     "end_time": "2024-11-30T11:53:36.175358Z",
     "start_time": "2024-11-30T11:53:36.159488Z"
    }
   },
   "outputs": [],
   "source": [
    "column_order = [\"age\", \"job\", \"marital\", \"education\", \"default\", \"housing\", \"loan\",\n",
    "                \"contact\", \"month\", \"day_of_week\", \"duration\", \"campaign\", \"pdays\",\n",
    "                \"previous\", \"poutcome\", \"emp.var.rate\", \"cons.price.idx\",\n",
    "                \"cons.conf.idx\", \"euribor3m\", \"nr.employed\", \"y\"]\n",
    "\n",
    "# Read the CSV file with the specified column order\n",
    "bank_additional = pd.read_csv(\"bank-additional.csv\", delimiter=';', names=column_order)"
   ]
  },
  {
   "cell_type": "code",
   "execution_count": 150,
   "id": "de6192b5ef621fd",
   "metadata": {
    "ExecuteTime": {
     "end_time": "2024-11-30T11:53:38.057987Z",
     "start_time": "2024-11-30T11:53:38.054040Z"
    }
   },
   "outputs": [
    {
     "name": "stdout",
     "output_type": "stream",
     "text": [
      "(4120, 21)\n"
     ]
    }
   ],
   "source": [
    "print(bank_additional.shape)\n"
   ]
  },
  {
   "cell_type": "code",
   "execution_count": 151,
   "id": "90b2f754ec8893df",
   "metadata": {
    "ExecuteTime": {
     "end_time": "2024-11-30T11:53:39.962320Z",
     "start_time": "2024-11-30T11:53:39.950854Z"
    }
   },
   "outputs": [
    {
     "name": "stdout",
     "output_type": "stream",
     "text": [
      "   age          job  marital    education  default  housing     loan  \\\n",
      "0  age          job  marital    education  default  housing     loan   \n",
      "1   30  blue-collar  married     basic.9y       no      yes       no   \n",
      "2   39     services   single  high.school       no       no       no   \n",
      "3   25     services  married  high.school       no      yes       no   \n",
      "4   38     services  married     basic.9y       no  unknown  unknown   \n",
      "\n",
      "     contact  month  day_of_week  ...  campaign  pdays  previous     poutcome  \\\n",
      "0    contact  month  day_of_week  ...  campaign  pdays  previous     poutcome   \n",
      "1   cellular    may          fri  ...         2    999         0  nonexistent   \n",
      "2  telephone    may          fri  ...         4    999         0  nonexistent   \n",
      "3  telephone    jun          wed  ...         1    999         0  nonexistent   \n",
      "4  telephone    jun          fri  ...         3    999         0  nonexistent   \n",
      "\n",
      "   emp.var.rate  cons.price.idx  cons.conf.idx  euribor3m  nr.employed   y  \n",
      "0  emp.var.rate  cons.price.idx  cons.conf.idx  euribor3m  nr.employed   y  \n",
      "1          -1.8          92.893          -46.2      1.313       5099.1  no  \n",
      "2           1.1          93.994          -36.4      4.855         5191  no  \n",
      "3           1.4          94.465          -41.8      4.962       5228.1  no  \n",
      "4           1.4          94.465          -41.8      4.959       5228.1  no  \n",
      "\n",
      "[5 rows x 21 columns]\n"
     ]
    }
   ],
   "source": [
    "print(bank_additional.head())"
   ]
  },
  {
   "cell_type": "code",
   "execution_count": 152,
   "id": "2f2dedcd76d9e831",
   "metadata": {
    "ExecuteTime": {
     "end_time": "2024-11-30T11:53:41.660932Z",
     "start_time": "2024-11-30T11:53:41.654307Z"
    }
   },
   "outputs": [
    {
     "name": "stdout",
     "output_type": "stream",
     "text": [
      "age               0\n",
      "job               0\n",
      "marital           0\n",
      "education         0\n",
      "default           0\n",
      "housing           0\n",
      "loan              0\n",
      "contact           0\n",
      "month             0\n",
      "day_of_week       0\n",
      "duration          0\n",
      "campaign          0\n",
      "pdays             0\n",
      "previous          0\n",
      "poutcome          0\n",
      "emp.var.rate      0\n",
      "cons.price.idx    0\n",
      "cons.conf.idx     0\n",
      "euribor3m         0\n",
      "nr.employed       0\n",
      "y                 0\n",
      "dtype: int64\n"
     ]
    }
   ],
   "source": [
    "print(data.isnull().sum())\n"
   ]
  },
  {
   "cell_type": "code",
   "execution_count": 153,
   "id": "9fa89e8c706feb83",
   "metadata": {
    "ExecuteTime": {
     "end_time": "2024-11-30T11:53:43.543561Z",
     "start_time": "2024-11-30T11:53:43.533187Z"
    }
   },
   "outputs": [],
   "source": [
    "categorical_columns = ['job', 'marital', 'education', 'default', 'housing', 'loan', 'contact', 'month', 'day_of_week', 'poutcome']\n",
    "data[categorical_columns] = data[categorical_columns].astype('category')"
   ]
  },
  {
   "cell_type": "code",
   "execution_count": 2,
   "id": "9243590876763d98",
   "metadata": {
    "ExecuteTime": {
     "end_time": "2024-11-30T11:53:46.475937Z",
     "start_time": "2024-11-30T11:53:45.973125Z"
    }
   },
   "outputs": [
    {
     "ename": "NameError",
     "evalue": "name 'plt' is not defined",
     "output_type": "error",
     "traceback": [
      "\u001b[0;31m---------------------------------------------------------------------------\u001b[0m",
      "\u001b[0;31mNameError\u001b[0m                                 Traceback (most recent call last)",
      "Cell \u001b[0;32mIn[2], line 5\u001b[0m\n\u001b[1;32m      1\u001b[0m reference_column \u001b[38;5;241m=\u001b[39m \u001b[38;5;124m'\u001b[39m\u001b[38;5;124mage\u001b[39m\u001b[38;5;124m'\u001b[39m\n\u001b[1;32m      2\u001b[0m numerical_columns \u001b[38;5;241m=\u001b[39m [\u001b[38;5;124m'\u001b[39m\u001b[38;5;124mduration\u001b[39m\u001b[38;5;124m'\u001b[39m, \u001b[38;5;124m'\u001b[39m\u001b[38;5;124mcampaign\u001b[39m\u001b[38;5;124m'\u001b[39m, \u001b[38;5;124m'\u001b[39m\u001b[38;5;124mpdays\u001b[39m\u001b[38;5;124m'\u001b[39m, \u001b[38;5;124m'\u001b[39m\u001b[38;5;124mprevious\u001b[39m\u001b[38;5;124m'\u001b[39m,\n\u001b[1;32m      3\u001b[0m                      \u001b[38;5;124m'\u001b[39m\u001b[38;5;124memp.var.rate\u001b[39m\u001b[38;5;124m'\u001b[39m, \u001b[38;5;124m'\u001b[39m\u001b[38;5;124mcons.price.idx\u001b[39m\u001b[38;5;124m'\u001b[39m, \u001b[38;5;124m'\u001b[39m\u001b[38;5;124mcons.conf.idx\u001b[39m\u001b[38;5;124m'\u001b[39m,\n\u001b[1;32m      4\u001b[0m                      \u001b[38;5;124m'\u001b[39m\u001b[38;5;124meuribor3m\u001b[39m\u001b[38;5;124m'\u001b[39m, \u001b[38;5;124m'\u001b[39m\u001b[38;5;124mnr.employed\u001b[39m\u001b[38;5;124m'\u001b[39m]\n\u001b[0;32m----> 5\u001b[0m fig, axes \u001b[38;5;241m=\u001b[39m plt\u001b[38;5;241m.\u001b[39msubplots(\u001b[38;5;241m3\u001b[39m, \u001b[38;5;241m4\u001b[39m, figsize\u001b[38;5;241m=\u001b[39m(\u001b[38;5;241m18\u001b[39m, \u001b[38;5;241m12\u001b[39m))\n\u001b[1;32m      6\u001b[0m axes \u001b[38;5;241m=\u001b[39m axes\u001b[38;5;241m.\u001b[39mflatten()\n\u001b[1;32m      8\u001b[0m \u001b[38;5;28;01mfor\u001b[39;00m i, column \u001b[38;5;129;01min\u001b[39;00m \u001b[38;5;28menumerate\u001b[39m(numerical_columns):\n",
      "\u001b[0;31mNameError\u001b[0m: name 'plt' is not defined"
     ]
    }
   ],
   "source": [
    "reference_column = 'age'\n",
    "numerical_columns = ['duration', 'campaign', 'pdays', 'previous',\n",
    "                     'emp.var.rate', 'cons.price.idx', 'cons.conf.idx',\n",
    "                     'euribor3m', 'nr.employed']\n",
    "fig, axes = plt.subplots(3, 4, figsize=(18, 12))\n",
    "axes = axes.flatten()\n",
    "\n",
    "for i, column in enumerate(numerical_columns):\n",
    "    sns.scatterplot(data=data, x=reference_column, y=column, ax=axes[i], color=\"purple\")\n",
    "    axes[i].set_title(f'{reference_column} vs {column}', fontsize=12, color='darkblue')\n",
    "    axes[i].set_xlabel(reference_column, fontsize=10)\n",
    "    axes[i].set_ylabel(column, fontsize=10)\n",
    "\n",
    "for j in range(len(numerical_columns), len(axes)):\n",
    "    fig.delaxes(axes[j])\n",
    "\n",
    "plt.tight_layout()\n",
    "plt.show()"
   ]
  },
  {
   "cell_type": "code",
   "execution_count": 4,
   "id": "246f19ef8398c9ac",
   "metadata": {
    "ExecuteTime": {
     "end_time": "2024-11-30T11:53:50.608645Z",
     "start_time": "2024-11-30T11:53:50.044611Z"
    }
   },
   "outputs": [
    {
     "ename": "NameError",
     "evalue": "name 'plt' is not defined",
     "output_type": "error",
     "traceback": [
      "\u001b[0;31m---------------------------------------------------------------------------\u001b[0m",
      "\u001b[0;31mNameError\u001b[0m                                 Traceback (most recent call last)",
      "Cell \u001b[0;32mIn[4], line 5\u001b[0m\n\u001b[1;32m      1\u001b[0m numerical_columns \u001b[38;5;241m=\u001b[39m [\u001b[38;5;124m'\u001b[39m\u001b[38;5;124mduration\u001b[39m\u001b[38;5;124m'\u001b[39m, \u001b[38;5;124m'\u001b[39m\u001b[38;5;124mcampaign\u001b[39m\u001b[38;5;124m'\u001b[39m, \u001b[38;5;124m'\u001b[39m\u001b[38;5;124mpdays\u001b[39m\u001b[38;5;124m'\u001b[39m, \u001b[38;5;124m'\u001b[39m\u001b[38;5;124mprevious\u001b[39m\u001b[38;5;124m'\u001b[39m,\n\u001b[1;32m      2\u001b[0m                      \u001b[38;5;124m'\u001b[39m\u001b[38;5;124memp.var.rate\u001b[39m\u001b[38;5;124m'\u001b[39m, \u001b[38;5;124m'\u001b[39m\u001b[38;5;124mcons.price.idx\u001b[39m\u001b[38;5;124m'\u001b[39m, \u001b[38;5;124m'\u001b[39m\u001b[38;5;124mcons.conf.idx\u001b[39m\u001b[38;5;124m'\u001b[39m,\n\u001b[1;32m      3\u001b[0m                      \u001b[38;5;124m'\u001b[39m\u001b[38;5;124meuribor3m\u001b[39m\u001b[38;5;124m'\u001b[39m, \u001b[38;5;124m'\u001b[39m\u001b[38;5;124mnr.employed\u001b[39m\u001b[38;5;124m'\u001b[39m]\n\u001b[0;32m----> 5\u001b[0m fig, axes \u001b[38;5;241m=\u001b[39m plt\u001b[38;5;241m.\u001b[39msubplots(\u001b[38;5;241m3\u001b[39m, \u001b[38;5;241m4\u001b[39m, figsize\u001b[38;5;241m=\u001b[39m(\u001b[38;5;241m18\u001b[39m, \u001b[38;5;241m12\u001b[39m))\n\u001b[1;32m      6\u001b[0m axes \u001b[38;5;241m=\u001b[39m axes\u001b[38;5;241m.\u001b[39mflatten()\n\u001b[1;32m      8\u001b[0m \u001b[38;5;28;01mfor\u001b[39;00m i, column \u001b[38;5;129;01min\u001b[39;00m \u001b[38;5;28menumerate\u001b[39m(numerical_columns):\n",
      "\u001b[0;31mNameError\u001b[0m: name 'plt' is not defined"
     ]
    }
   ],
   "source": [
    "\n",
    "numerical_columns = ['duration', 'campaign', 'pdays', 'previous',\n",
    "                     'emp.var.rate', 'cons.price.idx', 'cons.conf.idx',\n",
    "                     'euribor3m', 'nr.employed']\n",
    "\n",
    "fig, axes = plt.subplots(3, 4, figsize=(18, 12))\n",
    "axes = axes.flatten()\n",
    "\n",
    "for i, column in enumerate(numerical_columns):\n",
    "    sns.boxplot(\n",
    "        data=data,\n",
    "        y=column,\n",
    "        ax=axes[i],\n",
    "        boxprops=dict(facecolor=\"purple\", edgecolor=\"purple\"),\n",
    "        medianprops=dict(color=\"darkblue\", linewidth=2)\n",
    "    )\n",
    "    axes[i].set_title(f'Distribution of {column}', fontsize=12, color='darkblue')\n",
    "    axes[i].set_ylabel(column, fontsize=10)\n",
    "    axes[i].grid(axis='y', linestyle='--', alpha=0.7)\n",
    "\n",
    "for j in range(len(numerical_columns), len(axes)):\n",
    "    fig.delaxes(axes[j])\n",
    "\n",
    "plt.tight_layout()\n",
    "plt.show()\n"
   ]
  },
  {
   "cell_type": "code",
   "execution_count": 156,
   "id": "a77b48ae9a777cbd",
   "metadata": {
    "ExecuteTime": {
     "end_time": "2024-11-30T11:53:54.603787Z",
     "start_time": "2024-11-30T11:53:54.591653Z"
    }
   },
   "outputs": [
    {
     "name": "stdout",
     "output_type": "stream",
     "text": [
      "   age          job  marital          education default  housing     loan  \\\n",
      "0   30  blue-collar  married           basic.9y      no      yes       no   \n",
      "1   39     services   single        high.school      no       no       no   \n",
      "2   25     services  married        high.school      no      yes       no   \n",
      "3   38     services  married           basic.9y      no  unknown  unknown   \n",
      "4   47       admin.  married  university.degree      no      yes       no   \n",
      "\n",
      "     contact month day_of_week  ...  campaign  pdays  previous     poutcome  \\\n",
      "0   cellular   may         fri  ...       2.0    999         0  nonexistent   \n",
      "1  telephone   may         fri  ...       4.0    999         0  nonexistent   \n",
      "2  telephone   jun         wed  ...       1.0    999         0  nonexistent   \n",
      "3  telephone   jun         fri  ...       3.0    999         0  nonexistent   \n",
      "4   cellular   nov         mon  ...       1.0    999         0  nonexistent   \n",
      "\n",
      "  emp.var.rate  cons.price.idx  cons.conf.idx  euribor3m  nr.employed   y  \n",
      "0         -1.8          92.893          -46.2      1.313       5099.1  no  \n",
      "1          1.1          93.994          -36.4      4.855       5191.0  no  \n",
      "2          1.4          94.465          -41.8      4.962       5228.1  no  \n",
      "3          1.4          94.465          -41.8      4.959       5228.1  no  \n",
      "4         -0.1          93.200          -42.0      4.191       5195.8  no  \n",
      "\n",
      "[5 rows x 21 columns]\n"
     ]
    }
   ],
   "source": [
    "# Cap the values in the 'campaign' and 'duration' columns at the 95th percentile\n",
    "for column in ['campaign', 'duration']:\n",
    "    threshold = data[column].quantile(0.90)\n",
    "    data[column] = np.where(data[column] > threshold, threshold, data[column])\n",
    "\n",
    "# Remove any rows where the 'age' column has values greater than 90\n",
    "data = data[data['age'] <= 90]\n",
    "\n",
    "# Display the first few rows of the modified DataFrame to verify changes\n",
    "print(data.head())\n"
   ]
  },
  {
   "cell_type": "markdown",
   "id": "bba40b16-bbc7-4607-9edb-4288b72995c9",
   "metadata": {},
   "source": [
    "# 2.Data Preprocessing"
   ]
  },
  {
   "cell_type": "code",
   "execution_count": 157,
   "id": "70d10dd1b651dd60",
   "metadata": {
    "ExecuteTime": {
     "end_time": "2024-11-30T11:53:57.943193Z",
     "start_time": "2024-11-30T11:53:57.924658Z"
    }
   },
   "outputs": [
    {
     "data": {
      "text/html": [
       "<div>\n",
       "<style scoped>\n",
       "    .dataframe tbody tr th:only-of-type {\n",
       "        vertical-align: middle;\n",
       "    }\n",
       "\n",
       "    .dataframe tbody tr th {\n",
       "        vertical-align: top;\n",
       "    }\n",
       "\n",
       "    .dataframe thead th {\n",
       "        text-align: right;\n",
       "    }\n",
       "</style>\n",
       "<table border=\"1\" class=\"dataframe\">\n",
       "  <thead>\n",
       "    <tr style=\"text-align: right;\">\n",
       "      <th></th>\n",
       "      <th>age</th>\n",
       "      <th>job</th>\n",
       "      <th>marital</th>\n",
       "      <th>education</th>\n",
       "      <th>default</th>\n",
       "      <th>housing</th>\n",
       "      <th>loan</th>\n",
       "      <th>contact</th>\n",
       "      <th>month</th>\n",
       "      <th>day_of_week</th>\n",
       "      <th>...</th>\n",
       "      <th>campaign</th>\n",
       "      <th>pdays</th>\n",
       "      <th>previous</th>\n",
       "      <th>poutcome</th>\n",
       "      <th>emp.var.rate</th>\n",
       "      <th>cons.price.idx</th>\n",
       "      <th>cons.conf.idx</th>\n",
       "      <th>euribor3m</th>\n",
       "      <th>nr.employed</th>\n",
       "      <th>y</th>\n",
       "    </tr>\n",
       "  </thead>\n",
       "  <tbody>\n",
       "    <tr>\n",
       "      <th>0</th>\n",
       "      <td>0.171429</td>\n",
       "      <td>blue-collar</td>\n",
       "      <td>married</td>\n",
       "      <td>basic.9y</td>\n",
       "      <td>no</td>\n",
       "      <td>yes</td>\n",
       "      <td>no</td>\n",
       "      <td>cellular</td>\n",
       "      <td>may</td>\n",
       "      <td>fri</td>\n",
       "      <td>...</td>\n",
       "      <td>0.25</td>\n",
       "      <td>999</td>\n",
       "      <td>0</td>\n",
       "      <td>nonexistent</td>\n",
       "      <td>0.333333</td>\n",
       "      <td>0.269680</td>\n",
       "      <td>0.192469</td>\n",
       "      <td>0.153741</td>\n",
       "      <td>0.512287</td>\n",
       "      <td>no</td>\n",
       "    </tr>\n",
       "    <tr>\n",
       "      <th>1</th>\n",
       "      <td>0.300000</td>\n",
       "      <td>services</td>\n",
       "      <td>single</td>\n",
       "      <td>high.school</td>\n",
       "      <td>no</td>\n",
       "      <td>no</td>\n",
       "      <td>no</td>\n",
       "      <td>telephone</td>\n",
       "      <td>may</td>\n",
       "      <td>fri</td>\n",
       "      <td>...</td>\n",
       "      <td>0.75</td>\n",
       "      <td>999</td>\n",
       "      <td>0</td>\n",
       "      <td>nonexistent</td>\n",
       "      <td>0.937500</td>\n",
       "      <td>0.698753</td>\n",
       "      <td>0.602510</td>\n",
       "      <td>0.956916</td>\n",
       "      <td>0.859735</td>\n",
       "      <td>no</td>\n",
       "    </tr>\n",
       "    <tr>\n",
       "      <th>2</th>\n",
       "      <td>0.100000</td>\n",
       "      <td>services</td>\n",
       "      <td>married</td>\n",
       "      <td>high.school</td>\n",
       "      <td>no</td>\n",
       "      <td>yes</td>\n",
       "      <td>no</td>\n",
       "      <td>telephone</td>\n",
       "      <td>jun</td>\n",
       "      <td>wed</td>\n",
       "      <td>...</td>\n",
       "      <td>0.00</td>\n",
       "      <td>999</td>\n",
       "      <td>0</td>\n",
       "      <td>nonexistent</td>\n",
       "      <td>1.000000</td>\n",
       "      <td>0.882307</td>\n",
       "      <td>0.376569</td>\n",
       "      <td>0.981179</td>\n",
       "      <td>1.000000</td>\n",
       "      <td>no</td>\n",
       "    </tr>\n",
       "    <tr>\n",
       "      <th>3</th>\n",
       "      <td>0.285714</td>\n",
       "      <td>services</td>\n",
       "      <td>married</td>\n",
       "      <td>basic.9y</td>\n",
       "      <td>no</td>\n",
       "      <td>unknown</td>\n",
       "      <td>unknown</td>\n",
       "      <td>telephone</td>\n",
       "      <td>jun</td>\n",
       "      <td>fri</td>\n",
       "      <td>...</td>\n",
       "      <td>0.50</td>\n",
       "      <td>999</td>\n",
       "      <td>0</td>\n",
       "      <td>nonexistent</td>\n",
       "      <td>1.000000</td>\n",
       "      <td>0.882307</td>\n",
       "      <td>0.376569</td>\n",
       "      <td>0.980499</td>\n",
       "      <td>1.000000</td>\n",
       "      <td>no</td>\n",
       "    </tr>\n",
       "    <tr>\n",
       "      <th>4</th>\n",
       "      <td>0.414286</td>\n",
       "      <td>admin.</td>\n",
       "      <td>married</td>\n",
       "      <td>university.degree</td>\n",
       "      <td>no</td>\n",
       "      <td>yes</td>\n",
       "      <td>no</td>\n",
       "      <td>cellular</td>\n",
       "      <td>nov</td>\n",
       "      <td>mon</td>\n",
       "      <td>...</td>\n",
       "      <td>0.00</td>\n",
       "      <td>999</td>\n",
       "      <td>0</td>\n",
       "      <td>nonexistent</td>\n",
       "      <td>0.687500</td>\n",
       "      <td>0.389322</td>\n",
       "      <td>0.368201</td>\n",
       "      <td>0.806349</td>\n",
       "      <td>0.877883</td>\n",
       "      <td>no</td>\n",
       "    </tr>\n",
       "  </tbody>\n",
       "</table>\n",
       "<p>5 rows × 21 columns</p>\n",
       "</div>"
      ],
      "text/plain": [
       "        age          job  marital          education default  housing  \\\n",
       "0  0.171429  blue-collar  married           basic.9y      no      yes   \n",
       "1  0.300000     services   single        high.school      no       no   \n",
       "2  0.100000     services  married        high.school      no      yes   \n",
       "3  0.285714     services  married           basic.9y      no  unknown   \n",
       "4  0.414286       admin.  married  university.degree      no      yes   \n",
       "\n",
       "      loan    contact month day_of_week  ...  campaign  pdays  previous  \\\n",
       "0       no   cellular   may         fri  ...      0.25    999         0   \n",
       "1       no  telephone   may         fri  ...      0.75    999         0   \n",
       "2       no  telephone   jun         wed  ...      0.00    999         0   \n",
       "3  unknown  telephone   jun         fri  ...      0.50    999         0   \n",
       "4       no   cellular   nov         mon  ...      0.00    999         0   \n",
       "\n",
       "      poutcome emp.var.rate  cons.price.idx  cons.conf.idx  euribor3m  \\\n",
       "0  nonexistent     0.333333        0.269680       0.192469   0.153741   \n",
       "1  nonexistent     0.937500        0.698753       0.602510   0.956916   \n",
       "2  nonexistent     1.000000        0.882307       0.376569   0.981179   \n",
       "3  nonexistent     1.000000        0.882307       0.376569   0.980499   \n",
       "4  nonexistent     0.687500        0.389322       0.368201   0.806349   \n",
       "\n",
       "   nr.employed   y  \n",
       "0     0.512287  no  \n",
       "1     0.859735  no  \n",
       "2     1.000000  no  \n",
       "3     1.000000  no  \n",
       "4     0.877883  no  \n",
       "\n",
       "[5 rows x 21 columns]"
      ]
     },
     "execution_count": 157,
     "metadata": {},
     "output_type": "execute_result"
    }
   ],
   "source": [
    "scaler = MinMaxScaler()\n",
    "\n",
    "# List of numerical columns to scale (update as needed)\n",
    "numerical_cols = ['age', 'duration', 'campaign', 'emp.var.rate', 'cons.price.idx', 'cons.conf.idx', 'euribor3m', 'nr.employed']\n",
    "\n",
    "# Apply Min-Max Scaling\n",
    "data[numerical_cols] = scaler.fit_transform(data[numerical_cols])\n",
    "\n",
    "# Print the first few rows to check the transformed data\n",
    "data.head()"
   ]
  },
  {
   "cell_type": "code",
   "execution_count": 125,
   "id": "ec70d0c44e5d93ff",
   "metadata": {
    "ExecuteTime": {
     "end_time": "2024-11-30T11:40:04.629340Z",
     "start_time": "2024-11-30T11:40:04.620599Z"
    }
   },
   "outputs": [
    {
     "name": "stdout",
     "output_type": "stream",
     "text": [
      "   contacted_before\n",
      "0                 0\n",
      "1                 0\n",
      "2                 0\n",
      "3                 0\n",
      "4                 0\n"
     ]
    }
   ],
   "source": [
    "# Convert the 'pdays' column into a binary feature: 0 indicates not contacted (999), and 1 indicates contacted\n",
    "data['contacted_before'] = data['pdays'].apply(lambda x: 0 if x == 999 else 1)\n",
    "\n",
    "# Remove the original 'pdays' column from the DataFrame\n",
    "data.drop('pdays', axis=1, inplace=True)\n",
    "\n",
    "# Display the first few rows of the new 'contacted_before' column to confirm the changes\n",
    "print(data[['contacted_before']].head())"
   ]
  },
  {
   "cell_type": "code",
   "execution_count": 159,
   "id": "aa972b10e359f329",
   "metadata": {
    "ExecuteTime": {
     "end_time": "2024-11-30T11:54:01.256070Z",
     "start_time": "2024-11-30T11:54:01.245946Z"
    }
   },
   "outputs": [
    {
     "name": "stdout",
     "output_type": "stream",
     "text": [
      "The following columns are not found in the DataFrame and will be skipped: ['job', 'marital', 'education', 'default', 'housing', 'loan', 'contact', 'month', 'day_of_week', 'poutcome']\n",
      "No valid categorical columns found for one-hot encoding.\n",
      "        age  duration  campaign  pdays  previous  emp.var.rate  \\\n",
      "0  0.171429  0.893250      0.25    999         0      0.333333   \n",
      "1  0.300000  0.634629      0.75    999         0      0.937500   \n",
      "2  0.100000  0.416361      0.00    999         0      1.000000   \n",
      "3  0.285714  0.031181      0.50    999         0      1.000000   \n",
      "4  0.414286  0.106383      0.00    999         0      0.687500   \n",
      "\n",
      "   cons.price.idx  cons.conf.idx  euribor3m  nr.employed  ... month_oct  \\\n",
      "0        0.269680       0.192469   0.153741     0.512287  ...     False   \n",
      "1        0.698753       0.602510   0.956916     0.859735  ...     False   \n",
      "2        0.882307       0.376569   0.981179     1.000000  ...     False   \n",
      "3        0.882307       0.376569   0.980499     1.000000  ...     False   \n",
      "4        0.389322       0.368201   0.806349     0.877883  ...     False   \n",
      "\n",
      "   month_sep  day_of_week_fri  day_of_week_mon  day_of_week_thu  \\\n",
      "0      False             True            False            False   \n",
      "1      False             True            False            False   \n",
      "2      False            False            False            False   \n",
      "3      False             True            False            False   \n",
      "4      False            False             True            False   \n",
      "\n",
      "   day_of_week_tue  day_of_week_wed  poutcome_failure  poutcome_nonexistent  \\\n",
      "0            False            False             False                  True   \n",
      "1            False            False             False                  True   \n",
      "2            False             True             False                  True   \n",
      "3            False            False             False                  True   \n",
      "4            False            False             False                  True   \n",
      "\n",
      "   poutcome_success  \n",
      "0             False  \n",
      "1             False  \n",
      "2             False  \n",
      "3             False  \n",
      "4             False  \n",
      "\n",
      "[5 rows x 64 columns]\n"
     ]
    }
   ],
   "source": [
    "# Define the list of categorical columns for one-hot encoding\n",
    "categorical_columns = ['job', 'marital', 'education', 'default', 'housing',\n",
    "                       'loan', 'contact', 'month', 'day_of_week', 'poutcome']\n",
    "\n",
    "# Identify the columns that are present in the DataFrame\n",
    "existing_columns = [col for col in categorical_columns if col in data.columns]\n",
    "\n",
    "# Display missing columns for troubleshooting\n",
    "missing_columns = [col for col in categorical_columns if col not in data.columns]\n",
    "if missing_columns:\n",
    "    print(f\"The following columns are not found in the DataFrame and will be skipped: {missing_columns}\")\n",
    "\n",
    "# Perform one-hot encoding on the available columns\n",
    "if existing_columns:\n",
    "    data = pd.get_dummies(data, columns=existing_columns)\n",
    "    print(\"One-hot encoding has been successfully completed.\")\n",
    "else:\n",
    "    print(\"No valid categorical columns found for one-hot encoding.\")\n",
    "\n",
    "# Display the updated DataFrame structure\n",
    "print(data.head())\n"
   ]
  },
  {
   "cell_type": "markdown",
   "id": "d2e3c720-ffd5-4313-b2ab-3289adeb5b64",
   "metadata": {},
   "source": [
    "# 3.Feature Selection"
   ]
  },
  {
   "cell_type": "code",
   "execution_count": null,
   "id": "f08db7ae-05db-429a-a3c4-4b4002fdf51e",
   "metadata": {},
   "outputs": [],
   "source": [
    "# Define the target column and features\n",
    "target_column = 'y'\n",
    "X = data.drop(columns=[target_column])  # Features\n",
    "y = data[target_column]  # Target\n",
    "\n",
    "# Apply SelectKBest using ANOVA F-statistic\n",
    "k_best_anova = SelectKBest(score_func=f_classif, k=10)  # Select top 10 features\n",
    "X_k_best_anova = k_best_anova.fit_transform(X, y)\n",
    "\n",
    "# Print selected features and their scores\n",
    "selected_features_anova = X.columns[k_best_anova.get_support()]\n",
    "anova_scores = k_best_anova.scores_[k_best_anova.get_support()]\n",
    "print(\"Selected features using ANOVA F-statistic:\")\n",
    "for feature, score in zip(selected_features_anova, anova_scores):\n",
    "    print(f\"{feature}: {score:.2f}\")"
   ]
  },
  {
   "cell_type": "code",
   "execution_count": null,
   "id": "99d4f781-bad1-472a-be45-69c450025b62",
   "metadata": {},
   "outputs": [],
   "source": [
    "# Apply SelectKBest using mutual information\n",
    "k_best_mi = SelectKBest(score_func=mutual_info_classif, k=10)  # Select top 10 features\n",
    "X_k_best_mi = k_best_mi.fit_transform(X, y)\n",
    "\n",
    "# Print selected features and their scores\n",
    "selected_features_mi = X.columns[k_best_mi.get_support()]\n",
    "mi_scores = k_best_mi.scores_[k_best_mi.get_support()]\n",
    "print(\"\\nSelected features using mutual information:\")\n",
    "for feature, score in zip(selected_features_mi, mi_scores):\n",
    "    print(f\"{feature}: {score:.2f}\")"
   ]
  },
  {
   "cell_type": "raw",
   "id": "fb1ad007-fa80-416d-a732-391c0299a793",
   "metadata": {},
   "source": [
    "Important features based on correlation: ['duration', 'previous', 'emp.var.rate', 'euribor3m', 'nr.employed', 'contacted_before', 'contact_cellular', 'contact_telephone', 'month_dec', 'month_mar', 'month_may', 'month_oct', 'month_sep', 'poutcome_nonexistent', 'poutcome_success']"
   ]
  },
  {
   "cell_type": "markdown",
   "id": "e2c38140-d84d-4e5a-b92a-5b68cc717536",
   "metadata": {},
   "source": [
    "# 4.Model Selection"
   ]
  },
  {
   "cell_type": "code",
   "execution_count": null,
   "id": "58e1e036-606f-428f-9d6d-026294ef9073",
   "metadata": {},
   "outputs": [],
   "source": []
  }
 ],
 "metadata": {
  "kernelspec": {
   "display_name": "Python 3 (ipykernel)",
   "language": "python",
   "name": "python3"
  },
  "language_info": {
   "codemirror_mode": {
    "name": "ipython",
    "version": 3
   },
   "file_extension": ".py",
   "mimetype": "text/x-python",
   "name": "python",
   "nbconvert_exporter": "python",
   "pygments_lexer": "ipython3",
   "version": "3.12.7"
  }
 },
 "nbformat": 4,
 "nbformat_minor": 5
}
